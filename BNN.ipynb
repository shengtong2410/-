{
 "cells": [
  {
   "cell_type": "markdown",
   "id": "32af231a-b854-4b31-a8b4-4d363149abb7",
   "metadata": {},
   "source": [
    "<font size=\"3\">**1. 导包**</font>"
   ]
  },
  {
   "cell_type": "code",
   "execution_count": 1,
   "id": "6e56216c-9c0a-461d-80fb-9c8242d8f8d0",
   "metadata": {},
   "outputs": [],
   "source": [
    "import numpy as np\n",
    "import pandas as pd\n",
    "import os\n",
    "from sklearn.feature_extraction.text import CountVectorizer, TfidfVectorizer\n",
    "from sklearn.model_selection import train_test_split\n",
    "import matplotlib.pyplot as plt\n",
    "\n",
    "import torch\n",
    "import torch.nn as nn\n",
    "import torch.nn.functional as F\n",
    "import torch.optim as optim\n",
    "from torch.distributions import Normal\n",
    "\n",
    "import sys\n",
    "np.set_printoptions(threshold=sys.maxsize)"
   ]
  },
  {
   "cell_type": "code",
   "execution_count": 2,
   "id": "0e784353-fb2a-4c5f-9326-de78479a4b28",
   "metadata": {},
   "outputs": [
    {
     "name": "stdout",
     "output_type": "stream",
     "text": [
      "2.5.1\n"
     ]
    }
   ],
   "source": [
    "print(torch.__version__)"
   ]
  },
  {
   "cell_type": "markdown",
   "id": "90804869-b0c4-4e67-a011-17f3d3ee9cfd",
   "metadata": {},
   "source": [
    "<font size=\"3\">**2. 数据读取**</font>"
   ]
  },
  {
   "cell_type": "markdown",
   "id": "6977c675-8353-4425-bd14-95714426c659",
   "metadata": {},
   "source": [
    "通过对数据集的观察，文本的首行\"Subject:xxx\"为邮件标题，从第二行起为邮件正文。这里将标题从文本中单独提取作为一列。"
   ]
  },
  {
   "cell_type": "code",
   "execution_count": 3,
   "id": "a84ec290-6ad3-438a-93e4-3026c3f88db5",
   "metadata": {},
   "outputs": [],
   "source": [
    "def getemail(folder_path):\n",
    "    # 初始化一个空列表，用来存放每封邮件的标题和正文\n",
    "    emails = []\n",
    "    # 遍历文件夹中的所有txt文件\n",
    "    for filename in os.listdir(folder_path):\n",
    "        if filename.endswith(\".txt\"):\n",
    "            file_path = os.path.join(folder_path, filename)\n",
    "            \n",
    "            # 尝试用 utf-8 编码打开文件，如果失败则用 latin-1 编码\n",
    "            try:\n",
    "                with open(file_path, \"r\", encoding=\"utf-8\") as file:\n",
    "                    lines = file.readlines()\n",
    "            except UnicodeDecodeError:\n",
    "                with open(file_path, \"r\", encoding=\"latin-1\") as file:\n",
    "                    lines = file.readlines()\n",
    "            \n",
    "            # 获取邮件标题 (第一行)\n",
    "            subject = lines[0].strip().replace(\"Subject:\", \"\").strip()\n",
    "            \n",
    "            # 获取邮件正文（从第二行开始）\n",
    "            body = \"\".join(lines[1:]).strip()\n",
    "            \n",
    "            # 将邮件标题和正文加入列表\n",
    "            emails.append([subject, body])\n",
    "    \n",
    "    # 将列表转换为DataFrame\n",
    "    df = pd.DataFrame(emails, columns=[\"title\", \"body\"])\n",
    "    return df"
   ]
  },
  {
   "cell_type": "code",
   "execution_count": 4,
   "id": "c9f4bfbe-b937-46ec-b387-bf689a8ae587",
   "metadata": {},
   "outputs": [],
   "source": [
    "ham_path = r'D:\\研究生\\研一\\机器学习与神经网络导论\\code\\enron2\\enron2\\ham'\n",
    "spam_path = r'D:\\研究生\\研一\\机器学习与神经网络导论\\code\\enron2\\enron2\\spam'\n",
    "\n",
    "ham_df = getemail(ham_path)\n",
    "spam_df = getemail(spam_path)"
   ]
  },
  {
   "cell_type": "code",
   "execution_count": 5,
   "id": "44ea87d9-cae0-4880-93f8-3cea73f0a6ed",
   "metadata": {},
   "outputs": [],
   "source": [
    "ham_df['label'] = 0\n",
    "spam_df['label'] = 1\n",
    "df = pd.concat([ham_df, spam_df], axis = 0)\n",
    "df = df.reset_index(drop = True)"
   ]
  },
  {
   "cell_type": "code",
   "execution_count": 6,
   "id": "e4751f8b-d5fa-48f9-a5f5-151f1a3988dc",
   "metadata": {},
   "outputs": [
    {
     "data": {
      "text/html": [
       "<div>\n",
       "<style scoped>\n",
       "    .dataframe tbody tr th:only-of-type {\n",
       "        vertical-align: middle;\n",
       "    }\n",
       "\n",
       "    .dataframe tbody tr th {\n",
       "        vertical-align: top;\n",
       "    }\n",
       "\n",
       "    .dataframe thead th {\n",
       "        text-align: right;\n",
       "    }\n",
       "</style>\n",
       "<table border=\"1\" class=\"dataframe\">\n",
       "  <thead>\n",
       "    <tr style=\"text-align: right;\">\n",
       "      <th></th>\n",
       "      <th>title</th>\n",
       "      <th>body</th>\n",
       "      <th>label</th>\n",
       "    </tr>\n",
       "  </thead>\n",
       "  <tbody>\n",
       "    <tr>\n",
       "      <th>0</th>\n",
       "      <td>re : rankings</td>\n",
       "      <td>thank you .</td>\n",
       "      <td>0</td>\n",
       "    </tr>\n",
       "    <tr>\n",
       "      <th>1</th>\n",
       "      <td>re : visit to enron</td>\n",
       "      <td>vince ,\\ndec . 29 at 9 : 00 will be fine . i h...</td>\n",
       "      <td>0</td>\n",
       "    </tr>\n",
       "    <tr>\n",
       "      <th>2</th>\n",
       "      <td>research group move to the 19 th floor</td>\n",
       "      <td>hello all :\\nin case any of you feel energetic...</td>\n",
       "      <td>0</td>\n",
       "    </tr>\n",
       "    <tr>\n",
       "      <th>3</th>\n",
       "      <td>christmas baskets</td>\n",
       "      <td>the christmas baskets have been ordered .\\nwe ...</td>\n",
       "      <td>0</td>\n",
       "    </tr>\n",
       "    <tr>\n",
       "      <th>4</th>\n",
       "      <td>japan candidate</td>\n",
       "      <td>vince ,\\ni spoke with whalley at the sa offsit...</td>\n",
       "      <td>0</td>\n",
       "    </tr>\n",
       "    <tr>\n",
       "      <th>5</th>\n",
       "      <td>christmas break</td>\n",
       "      <td>fyi\\n- - - - - - - - - - - - - - - - - - - - -...</td>\n",
       "      <td>0</td>\n",
       "    </tr>\n",
       "    <tr>\n",
       "      <th>6</th>\n",
       "      <td>christmas - near</td>\n",
       "      <td>good morning all . we apologize that we are no...</td>\n",
       "      <td>0</td>\n",
       "    </tr>\n",
       "    <tr>\n",
       "      <th>7</th>\n",
       "      <td>stentofon</td>\n",
       "      <td>goodmorning liz ,\\nwe are in need of another s...</td>\n",
       "      <td>0</td>\n",
       "    </tr>\n",
       "    <tr>\n",
       "      <th>8</th>\n",
       "      <td>re : new color printer</td>\n",
       "      <td>monday will be perfect !\\nlocation - ebl 944 b...</td>\n",
       "      <td>0</td>\n",
       "    </tr>\n",
       "    <tr>\n",
       "      <th>9</th>\n",
       "      <td>re : new color printer</td>\n",
       "      <td>this is the color printer that is being ordere...</td>\n",
       "      <td>0</td>\n",
       "    </tr>\n",
       "  </tbody>\n",
       "</table>\n",
       "</div>"
      ],
      "text/plain": [
       "                                    title  \\\n",
       "0                           re : rankings   \n",
       "1                     re : visit to enron   \n",
       "2  research group move to the 19 th floor   \n",
       "3                       christmas baskets   \n",
       "4                         japan candidate   \n",
       "5                         christmas break   \n",
       "6                        christmas - near   \n",
       "7                               stentofon   \n",
       "8                  re : new color printer   \n",
       "9                  re : new color printer   \n",
       "\n",
       "                                                body  label  \n",
       "0                                        thank you .      0  \n",
       "1  vince ,\\ndec . 29 at 9 : 00 will be fine . i h...      0  \n",
       "2  hello all :\\nin case any of you feel energetic...      0  \n",
       "3  the christmas baskets have been ordered .\\nwe ...      0  \n",
       "4  vince ,\\ni spoke with whalley at the sa offsit...      0  \n",
       "5  fyi\\n- - - - - - - - - - - - - - - - - - - - -...      0  \n",
       "6  good morning all . we apologize that we are no...      0  \n",
       "7  goodmorning liz ,\\nwe are in need of another s...      0  \n",
       "8  monday will be perfect !\\nlocation - ebl 944 b...      0  \n",
       "9  this is the color printer that is being ordere...      0  "
      ]
     },
     "execution_count": 6,
     "metadata": {},
     "output_type": "execute_result"
    }
   ],
   "source": [
    "df.head(10)"
   ]
  },
  {
   "cell_type": "code",
   "execution_count": 7,
   "id": "0670a5cf-cd05-4e1f-a514-ddf2c439b0a9",
   "metadata": {},
   "outputs": [],
   "source": [
    "# 划分数据集\n",
    "X_train, X_test, y_train, y_test = train_test_split(df.iloc[:,:2], df.iloc[:,2], test_size=0.2, random_state=24)"
   ]
  },
  {
   "cell_type": "markdown",
   "id": "ee9529d2-94f3-45a7-9771-d87690dfc1a0",
   "metadata": {},
   "source": [
    "<font size=\"3\">**3. 文本处理**</font>"
   ]
  },
  {
   "cell_type": "markdown",
   "id": "d30ba9dd-d731-4c9b-a6da-87b5a3e50307",
   "metadata": {},
   "source": [
    "按照词袋模型将文本转换成词向量，并且去除了停用词。"
   ]
  },
  {
   "cell_type": "code",
   "execution_count": 8,
   "id": "be3e2a35-ec14-4da4-9fb4-ec365f82af4f",
   "metadata": {},
   "outputs": [],
   "source": [
    "def vectorizer(X_train, X_test, min_df=0.0, max_df=1.0, max_features=64, method='count'):\n",
    "    '''\n",
    "    对正文部分进行特征提取，两种方法：count不考虑词频，term_frequency考虑词频\n",
    "    '''\n",
    "    if method == 'count':\n",
    "        vectorizer = CountVectorizer(\n",
    "            min_df=min_df, max_df=max_df, max_features=max_features, stop_words='english')\n",
    "    elif method == 'term_frequency':\n",
    "        vectorizer = TfidfVectorizer(\n",
    "            min_df=min_df, max_df=max_df, max_features=max_features, ngram_range=(1, 1), stop_words='english')\n",
    "    \n",
    "    features_train = vectorizer.fit_transform(X_train).toarray()\n",
    "    features_test = vectorizer.transform(X_test).toarray()\n",
    "    features_name = vectorizer.get_feature_names_out()\n",
    " \n",
    "    return features_name, features_train, features_test"
   ]
  },
  {
   "cell_type": "code",
   "execution_count": 9,
   "id": "6c209e03-e879-4ec6-a1f1-e3ed1a7009fb",
   "metadata": {},
   "outputs": [],
   "source": [
    "title_vec_name, X_train_title_vec, X_test_title_vec = vectorizer(X_train['title'], X_test['title'], max_features = 64)\n",
    "body_vec_name, X_train_body_vec, X_test_body_vec = vectorizer(X_train['body'], X_test['body'], max_features = 256)"
   ]
  },
  {
   "cell_type": "code",
   "execution_count": 10,
   "id": "0efad9d7-a98f-4000-a3ed-22bd6fabfcb4",
   "metadata": {},
   "outputs": [],
   "source": [
    "#转化为张量表示\n",
    "X_train_ts = torch.from_numpy(np.hstack((X_train_title_vec, X_train_body_vec))).float()\n",
    "X_test_ts = torch.from_numpy(np.hstack((X_test_title_vec, X_test_body_vec))).float()\n",
    "\n",
    "y_train_ts = torch.from_numpy(y_train.to_numpy()).unsqueeze(1).float()\n",
    "y_test_ts = torch.from_numpy(y_test.to_numpy()).float()"
   ]
  },
  {
   "cell_type": "code",
   "execution_count": 11,
   "id": "9afbf05d-ea61-42c9-8092-4fe536f78630",
   "metadata": {},
   "outputs": [
    {
     "data": {
      "text/plain": [
       "torch.Size([4685, 320])"
      ]
     },
     "execution_count": 11,
     "metadata": {},
     "output_type": "execute_result"
    }
   ],
   "source": [
    "X_train_ts.shape"
   ]
  },
  {
   "cell_type": "code",
   "execution_count": 12,
   "id": "cc12497a-5c07-412b-bb87-60c68651e408",
   "metadata": {},
   "outputs": [
    {
     "data": {
      "text/plain": [
       "torch.Size([4685, 1])"
      ]
     },
     "execution_count": 12,
     "metadata": {},
     "output_type": "execute_result"
    }
   ],
   "source": [
    "y_train_ts.shape"
   ]
  },
  {
   "cell_type": "markdown",
   "id": "8a376a77-bda2-45d9-98a7-6a8c31d7fbd9",
   "metadata": {},
   "source": [
    "<font size=\"3\">**4. 构造变分贝叶斯网络**</font>"
   ]
  },
  {
   "cell_type": "markdown",
   "id": "d1969fe7-2828-43ea-9582-97b36ab66f20",
   "metadata": {},
   "source": [
    "4.1 贝叶斯线性层"
   ]
  },
  {
   "cell_type": "code",
   "execution_count": 13,
   "id": "db200b6e-ff9d-4692-9fd8-d105ae3c4713",
   "metadata": {
    "scrolled": true
   },
   "outputs": [],
   "source": [
    "# BNN层，类似于BP网络的Linear层，与BP网络类似，一层BNN层由weight和bias组成，weight和bias都具有均值和方差\n",
    "class Linear_BBB(nn.Module):\n",
    "    \"\"\"\n",
    "        Layer of our BNN.\n",
    "    \"\"\"\n",
    "    def __init__(self, input_features, output_features, prior_var=1.):\n",
    "        \"\"\"\n",
    "            Initialization of our layer : our prior is a normal distribution\n",
    "            centered in 0 and of variance 20.\n",
    "        \"\"\"\n",
    "        # initialize layers\n",
    "        super().__init__()\n",
    "        # set input and output dimensions\n",
    "        self.input_features = input_features\n",
    "        self.output_features = output_features\n",
    "\n",
    "        # initialize mu and rho parameters for the weights of the layer\n",
    "        self.w_mu = nn.Parameter(torch.zeros(output_features, input_features))\n",
    "        self.w_rho = nn.Parameter(torch.zeros(output_features, input_features))\n",
    "\n",
    "        #initialize mu and rho parameters for the layer's bias\n",
    "        self.b_mu =  nn.Parameter(torch.zeros(output_features))\n",
    "        self.b_rho = nn.Parameter(torch.zeros(output_features))\n",
    "\n",
    "        #initialize weight samples (these will be calculated whenever the layer makes a prediction)\n",
    "        self.w = None\n",
    "        self.b = None\n",
    "\n",
    "        # initialize prior distribution for all of the weights and biases\n",
    "        self.prior = torch.distributions.Normal(0,prior_var)\n",
    "\n",
    "    def forward(self, input):\n",
    "        \"\"\"\n",
    "          Optimization process\n",
    "        \"\"\"\n",
    "        # sample weights\n",
    "        # 从标准正态分布中采样权重\n",
    "        w_epsilon = Normal(0,1).sample(self.w_mu.shape)\n",
    "        # 获得服从均值为mu，方差为delta的正态分布的样本\n",
    "        self.w = self.w_mu + torch.log(1+torch.exp(self.w_rho)) * w_epsilon\n",
    "\n",
    "        # sample bias\n",
    "        # 与sample weights同理\n",
    "        b_epsilon = Normal(0,1).sample(self.b_mu.shape)\n",
    "        self.b = self.b_mu + torch.log(1+torch.exp(self.b_rho)) * b_epsilon\n",
    "\n",
    "        # record log prior by evaluating log pdf of prior at sampled weight and bias\n",
    "        # 计算log p(w)，用于后续计算loss\n",
    "        w_log_prior = self.prior.log_prob(self.w)\n",
    "        b_log_prior = self.prior.log_prob(self.b)\n",
    "        self.log_prior = torch.sum(w_log_prior) + torch.sum(b_log_prior)\n",
    "\n",
    "        # record log variational posterior by evaluating log pdf of normal distribution defined by parameters with respect at the sampled values\n",
    "        # 计算 log p(w|\\theta)，用于后续计算loss\n",
    "        self.w_post = Normal(self.w_mu.data, torch.log(1+torch.exp(self.w_rho)))\n",
    "        self.b_post = Normal(self.b_mu.data, torch.log(1+torch.exp(self.b_rho)))\n",
    "        self.log_post = self.w_post.log_prob(self.w).sum() + self.b_post.log_prob(self.b).sum()\n",
    "\n",
    "        # 权重确定后，和BP网络层一样使用\n",
    "        return F.linear(input, self.w, self.b)"
   ]
  },
  {
   "cell_type": "markdown",
   "id": "7fc727ca-5383-4391-9b9e-9531c089fe5f",
   "metadata": {},
   "source": [
    "4.2 贝叶斯网络（包含一个隐藏层）"
   ]
  },
  {
   "cell_type": "code",
   "execution_count": 14,
   "id": "4569d1e6-92b7-4aa1-b840-537ff21c707b",
   "metadata": {},
   "outputs": [],
   "source": [
    "class MLP_BBB(nn.Module):\n",
    "    def __init__(self, hidden_units, noise_tol=.1,  prior_var=1.):\n",
    "\n",
    "        # initialize the network like you would with a standard multilayer perceptron, but using the BBB layer\n",
    "        super().__init__()\n",
    "        # 输出为1，只含有一层隐藏层的BNN\n",
    "        self.hidden = Linear_BBB(320, hidden_units, prior_var=prior_var)\n",
    "        self.out = Linear_BBB(hidden_units, 1, prior_var=prior_var)\n",
    "        self.noise_tol = noise_tol # we will use the noise tolerance to calculate our likelihood\n",
    "\n",
    "    def forward(self, x):\n",
    "        # again, this is equivalent to a standard multilayer perceptron\n",
    "        # 激活函数选用sigmoid\n",
    "        x = torch.sigmoid(self.hidden(x))\n",
    "        x = self.out(x)\n",
    "        return x\n",
    "\n",
    "    def log_prior(self):\n",
    "        # calculate the log prior over all the layers\n",
    "        return self.hidden.log_prior + self.out.log_prior\n",
    "\n",
    "    def log_post(self):\n",
    "        # calculate the log posterior over all the layers\n",
    "        return self.hidden.log_post + self.out.log_post\n",
    "\n",
    "    # 计算ELBO\n",
    "    def sample_elbo(self, input, target, samples):\n",
    "        # we calculate the negative elbo, which will be our loss function\n",
    "        #initialize tensors\n",
    "        outputs = torch.zeros(samples, target.shape[0])\n",
    "        log_priors = torch.zeros(samples)\n",
    "        log_posts = torch.zeros(samples)\n",
    "        log_likes = torch.zeros(samples)\n",
    "        # make predictions and calculate prior, posterior, and likelihood for a given number of samples\n",
    "\n",
    "        # 蒙特卡罗近似\n",
    "        for i in range(samples):\n",
    "            outputs[i] = self(input).reshape(-1) # make predictions\n",
    "            log_priors[i] = self.log_prior() # get log prior\n",
    "            log_posts[i] = self.log_post() # get log variational posterior\n",
    "            log_likes[i] = Normal(outputs[i], self.noise_tol).log_prob(target.reshape(-1)).sum() # calculate the log likelihood\n",
    "        # calculate monte carlo estimate of prior posterior and likelihood\n",
    "        log_prior = log_priors.mean()\n",
    "        log_post = log_posts.mean()\n",
    "        log_like = log_likes.mean()\n",
    "        # calculate the negative elbo (which is our loss function)\n",
    "        loss = log_post - log_prior - log_like\n",
    "        return loss"
   ]
  },
  {
   "cell_type": "markdown",
   "id": "abbf873f-1f16-4842-addb-de8237a64325",
   "metadata": {},
   "source": [
    "<font size=\"3\">**5. 模型训练与评估**</font>"
   ]
  },
  {
   "cell_type": "code",
   "execution_count": 15,
   "id": "52965955-0c05-440f-8ebd-d18853170bf5",
   "metadata": {
    "scrolled": true
   },
   "outputs": [
    {
     "name": "stdout",
     "output_type": "stream",
     "text": [
      "epoch: 1/6000\n",
      "Loss: 4686844.5\n",
      "epoch: 101/6000\n",
      "Loss: 967771.75\n",
      "epoch: 201/6000\n",
      "Loss: 486042.65625\n",
      "epoch: 301/6000\n",
      "Loss: 575192.75\n",
      "epoch: 401/6000\n",
      "Loss: 271949.15625\n",
      "epoch: 501/6000\n",
      "Loss: 308726.84375\n",
      "epoch: 601/6000\n",
      "Loss: 157605.109375\n",
      "epoch: 701/6000\n",
      "Loss: 122423.4453125\n",
      "epoch: 801/6000\n",
      "Loss: 99513.6328125\n",
      "epoch: 901/6000\n",
      "Loss: 84664.6953125\n",
      "epoch: 1001/6000\n",
      "Loss: 73684.125\n",
      "epoch: 1101/6000\n",
      "Loss: 62346.53125\n",
      "epoch: 1201/6000\n",
      "Loss: 47456.51171875\n",
      "epoch: 1301/6000\n",
      "Loss: 48310.796875\n",
      "epoch: 1401/6000\n",
      "Loss: 38780.20703125\n",
      "epoch: 1501/6000\n",
      "Loss: 37942.890625\n",
      "epoch: 1601/6000\n",
      "Loss: 31189.072265625\n",
      "epoch: 1701/6000\n",
      "Loss: 28732.03515625\n",
      "epoch: 1801/6000\n",
      "Loss: 25154.669921875\n",
      "epoch: 1901/6000\n",
      "Loss: 24733.109375\n",
      "epoch: 2001/6000\n",
      "Loss: 21115.6015625\n",
      "epoch: 2101/6000\n",
      "Loss: 28893.7265625\n",
      "epoch: 2201/6000\n",
      "Loss: 19170.037109375\n",
      "epoch: 2301/6000\n",
      "Loss: 17018.720703125\n",
      "epoch: 2401/6000\n",
      "Loss: 16069.6943359375\n",
      "epoch: 2501/6000\n",
      "Loss: 15814.8154296875\n",
      "epoch: 2601/6000\n",
      "Loss: 31594.638671875\n",
      "epoch: 2701/6000\n",
      "Loss: 15686.7294921875\n",
      "epoch: 2801/6000\n",
      "Loss: 14783.6845703125\n",
      "epoch: 2901/6000\n",
      "Loss: 15383.2021484375\n",
      "epoch: 3001/6000\n",
      "Loss: 12465.7861328125\n",
      "epoch: 3101/6000\n",
      "Loss: 13219.951171875\n",
      "epoch: 3201/6000\n",
      "Loss: 14816.62109375\n",
      "epoch: 3301/6000\n",
      "Loss: 18339.98828125\n",
      "epoch: 3401/6000\n",
      "Loss: 21199.34375\n",
      "epoch: 3501/6000\n",
      "Loss: 16450.884765625\n",
      "epoch: 3601/6000\n",
      "Loss: 10452.3935546875\n",
      "epoch: 3701/6000\n",
      "Loss: 10388.625\n",
      "epoch: 3801/6000\n",
      "Loss: 9913.818359375\n",
      "epoch: 3901/6000\n",
      "Loss: 8775.548828125\n",
      "epoch: 4001/6000\n",
      "Loss: 15121.5322265625\n",
      "epoch: 4101/6000\n",
      "Loss: 9722.1298828125\n",
      "epoch: 4201/6000\n",
      "Loss: 10403.8486328125\n",
      "epoch: 4301/6000\n",
      "Loss: 15545.650390625\n",
      "epoch: 4401/6000\n",
      "Loss: 9808.2646484375\n",
      "epoch: 4501/6000\n",
      "Loss: 21896.5\n",
      "epoch: 4601/6000\n",
      "Loss: 9533.6240234375\n",
      "epoch: 4701/6000\n",
      "Loss: 8616.982421875\n",
      "epoch: 4801/6000\n",
      "Loss: 17609.318359375\n",
      "epoch: 4901/6000\n",
      "Loss: 8856.3486328125\n",
      "epoch: 5001/6000\n",
      "Loss: 17310.810546875\n",
      "epoch: 5101/6000\n",
      "Loss: 11056.404296875\n",
      "epoch: 5201/6000\n",
      "Loss: 10933.892578125\n",
      "epoch: 5301/6000\n",
      "Loss: 9188.16796875\n",
      "epoch: 5401/6000\n",
      "Loss: 10111.83203125\n",
      "epoch: 5501/6000\n",
      "Loss: 12650.7568359375\n",
      "epoch: 5601/6000\n",
      "Loss: 14667.439453125\n",
      "epoch: 5701/6000\n",
      "Loss: 12991.66015625\n",
      "epoch: 5801/6000\n",
      "Loss: 9800.14453125\n",
      "epoch: 5901/6000\n",
      "Loss: 8235.951171875\n",
      "Finished Training\n"
     ]
    }
   ],
   "source": [
    "torch.cuda.manual_seed(2410)\n",
    "torch.cuda.manual_seed_all(2410)\n",
    "\n",
    "elbos = []\n",
    "net = MLP_BBB(128, prior_var=0.2)\n",
    "optimizer = optim.Adam(net.parameters(), lr=0.1)\n",
    "epochs = 6000\n",
    "for epoch in range(epochs):  # loop over the dataset multiple times\n",
    "    optimizer.zero_grad()\n",
    "    # forward + backward + optimize\n",
    "    loss = net.sample_elbo(X_train_ts, y_train_ts, 1)\n",
    "    loss.backward()\n",
    "    optimizer.step()\n",
    "    elbos.append(loss.item())  # 记录每个epoch的损失\n",
    "    if epoch % 100 == 0:\n",
    "        print('epoch: {}/{}'.format(epoch+1,epochs))\n",
    "        print('Loss:', loss.item())\n",
    "print('Finished Training')"
   ]
  },
  {
   "cell_type": "code",
   "execution_count": 16,
   "id": "22b1b8ed-8b6c-4e6c-832b-b36f409dd5a8",
   "metadata": {},
   "outputs": [
    {
     "data": {
      "image/png": "[encoded data removed]",
      "text/plain": [
       "<Figure size 640x480 with 1 Axes>"
      ]
     },
     "metadata": {},
     "output_type": "display_data"
    }
   ],
   "source": [
    "plt.plot(range(500, epochs), elbos[500:], label=\"Training Loss\")\n",
    "plt.xlabel('Epochs')\n",
    "plt.ylabel('ELBO')\n",
    "plt.title('Training Loss Curve')\n",
    "plt.legend()\n",
    "plt.grid(True)\n",
    "plt.show()"
   ]
  },
  {
   "cell_type": "code",
   "execution_count": 17,
   "id": "d2a05073-3935-4faf-8262-32940414c214",
   "metadata": {},
   "outputs": [
    {
     "name": "stdout",
     "output_type": "stream",
     "text": [
      "Accuracy: 0.9812\n"
     ]
    }
   ],
   "source": [
    "# 对测试集进行预测\n",
    "net.eval()\n",
    "with torch.no_grad():\n",
    "    y_pred = net(X_test_ts).squeeze()  # 模型预测的概率值\n",
    "    y_pred_label = (y_pred > 0.5).float()  # 通过0.5的阈值将概率转为标签\n",
    "\n",
    "# 计算准确率\n",
    "correct = (y_pred_label == y_test_ts).sum().item()\n",
    "accuracy = correct / len(y_test_ts)  # 计算准确率\n",
    "print(f'Accuracy: {accuracy:.4f}')"
   ]
  },
  {
   "cell_type": "code",
   "execution_count": 18,
   "id": "6d3b25b8-3697-4788-867c-c7dd276948b9",
   "metadata": {},
   "outputs": [
    {
     "name": "stdout",
     "output_type": "stream",
     "text": [
      "Precision: 0.9544\n",
      "Recall: 0.9734\n",
      "F1 Score: 0.9638\n"
     ]
    },
    {
     "data": {
      "image/png": "[encoded data removed]",
      "text/plain": [
       "<Figure size 640x480 with 2 Axes>"
      ]
     },
     "metadata": {},
     "output_type": "display_data"
    }
   ],
   "source": [
    "from sklearn.metrics import precision_score, recall_score, f1_score, confusion_matrix\n",
    "import seaborn as sns\n",
    "# 计算精确度、召回率和 F1 分数\n",
    "precision = precision_score(y_test_ts.numpy(), y_pred_label.numpy())\n",
    "recall = recall_score(y_test_ts.numpy(), y_pred_label.numpy())\n",
    "f1 = f1_score(y_test_ts.numpy(), y_pred_label.numpy())\n",
    "\n",
    "print(f'Precision: {precision:.4f}')\n",
    "print(f'Recall: {recall:.4f}')\n",
    "print(f'F1 Score: {f1:.4f}')\n",
    "\n",
    "# 计算混淆矩阵\n",
    "conf_matrix = confusion_matrix(y_test_ts.numpy(), y_pred_label.numpy())\n",
    "\n",
    "# 可视化混淆矩阵\n",
    "sns.heatmap(conf_matrix, annot=True, fmt='d', cmap='Blues', xticklabels=['Class 0', 'Class 1'], yticklabels=['Class 0', 'Class 1'])\n",
    "plt.xlabel('Predicted')\n",
    "plt.ylabel('True')\n",
    "plt.show()"
   ]
  },
  {
   "cell_type": "markdown",
   "id": "0c6eab3f-9052-4411-a6a8-99ab837ed6a8",
   "metadata": {},
   "source": [
    "<font size=\"3\">**6. 种子敏感性实验**</font>"
   ]
  },
  {
   "cell_type": "code",
   "execution_count": 20,
   "id": "2b32292b-7827-4687-b99d-fd6c2fca2186",
   "metadata": {},
   "outputs": [
    {
     "name": "stdout",
     "output_type": "stream",
     "text": [
      "Results from different seeds: [0.9598976109215017, 0.9761092150170648, 0.9761092150170648, 0.9633105802047781, 0.9735494880546075, 0.9761092150170648, 0.9744027303754266, 0.9744027303754266, 0.976962457337884, 0.9556313993174061]\n"
     ]
    }
   ],
   "source": [
    "seeds = [42, 86, 123, 628, 999, 1001, 5002, 8428, 10000, 10024]\n",
    "results = []\n",
    "\n",
    "for seed in seeds:\n",
    "    # 设置随机种子\n",
    "    torch.cuda.manual_seed(seed)\n",
    "    torch.cuda.manual_seed_all(seed)\n",
    "\n",
    "    # 执行模型训练\n",
    "    model = MLP_BBB(128, prior_var=0.2)\n",
    "    optimizer = optim.Adam(model.parameters(), lr=0.1)\n",
    "    epochs = 6000\n",
    "    for epoch in range(epochs): \n",
    "        optimizer.zero_grad()\n",
    "        loss = model.sample_elbo(X_train_ts, y_train_ts, 1)\n",
    "        loss.backward()\n",
    "        optimizer.step()\n",
    "    model.eval()\n",
    "    with torch.no_grad():\n",
    "        y_pred = model(X_test_ts).squeeze()\n",
    "        y_pred_label = (y_pred > 0.5).float()\n",
    "    correct = (y_pred_label == y_test_ts).sum().item()\n",
    "    accuracy = correct / len(y_test_ts)\n",
    "    results.append(accuracy)\n",
    "\n",
    "print(\"Results from different seeds:\", results)"
   ]
  },
  {
   "cell_type": "markdown",
   "id": "184a1337-ee3f-4ecc-80ae-272b3027c085",
   "metadata": {},
   "source": [
    "<font size=\"3\">**7. 消融实验：先验方差的敏感性分析**</font>"
   ]
  },
  {
   "cell_type": "code",
   "execution_count": 21,
   "id": "32309fb8-b49e-4b61-8fae-ac0be9b0ed22",
   "metadata": {},
   "outputs": [
    {
     "name": "stdout",
     "output_type": "stream",
     "text": [
      "Results from different seeds: [0.9701365187713311, 0.9752559726962458, 0.9803754266211604, 0.9718430034129693, 0.9778156996587031]\n"
     ]
    }
   ],
   "source": [
    "torch.cuda.manual_seed(2410)\n",
    "torch.cuda.manual_seed_all(2410)\n",
    "\n",
    "vars = [0.1, 0.5, 1, 5, 10]\n",
    "results2 = []\n",
    "\n",
    "for var in vars:\n",
    "    model = MLP_BBB(128, prior_var=var)\n",
    "    optimizer = optim.Adam(model.parameters(), lr=0.1)\n",
    "    epochs = 6000\n",
    "    for epoch in range(epochs): \n",
    "        optimizer.zero_grad()\n",
    "        loss = model.sample_elbo(X_train_ts, y_train_ts, 1)\n",
    "        loss.backward()\n",
    "        optimizer.step()\n",
    "    model.eval()\n",
    "    with torch.no_grad():\n",
    "        y_pred = model(X_test_ts).squeeze()\n",
    "        y_pred_label = (y_pred > 0.5).float()\n",
    "    correct = (y_pred_label == y_test_ts).sum().item()\n",
    "    accuracy = correct / len(y_test_ts)\n",
    "    results2.append(accuracy)\n",
    "\n",
    "print(\"Results from different seeds:\", results2)"
   ]
  }
 ],
 "metadata": {
  "kernelspec": {
   "display_name": "Python 3 (ipykernel)",
   "language": "python",
   "name": "python3"
  },
  "language_info": {
   "codemirror_mode": {
    "name": "ipython",
    "version": 3
   },
   "file_extension": ".py",
   "mimetype": "text/x-python",
   "name": "python",
   "nbconvert_exporter": "python",
   "pygments_lexer": "ipython3",
   "version": "3.11.7"
  }
 },
 "nbformat": 4,
 "nbformat_minor": 5
}
